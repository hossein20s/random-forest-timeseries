{
  "nbformat": 4,
  "nbformat_minor": 0,
  "metadata": {
    "colab": {
      "name": "stupid_randforest.ipynb",
      "version": "0.3.2",
      "provenance": [],
      "collapsed_sections": [],
      "toc_visible": true,
      "include_colab_link": true
    },
    "kernelspec": {
      "name": "python3",
      "display_name": "Python 3"
    }
  },
  "cells": [
    {
      "cell_type": "markdown",
      "metadata": {
        "id": "view-in-github",
        "colab_type": "text"
      },
      "source": [
        "<a href=\"https://colab.research.google.com/github/hossein20s/random-forest-timeseries/blob/master/stupid_randforest.ipynb\" target=\"_parent\"><img src=\"https://colab.research.google.com/assets/colab-badge.svg\" alt=\"Open In Colab\"/></a>"
      ]
    },
    {
      "cell_type": "markdown",
      "metadata": {
        "id": "W0OZhtuwksXO",
        "colab_type": "text"
      },
      "source": [
        "#Looking in to random forest for light curve modeling\n",
        "\n",
        "Do the stupidest thing possible first:\n",
        "- read in Kepler 17 light curve \n",
        "- down-sample light curve to 2-hour samples (simple interpolation)\n",
        "- bin the light curve up in to 20 day bins, slide each subsequent bin by 5 days\n",
        "- each bin is one *instance*\n",
        "- within each bin, the features are delta time and delta flux from the last data point"
      ]
    },
    {
      "cell_type": "code",
      "metadata": {
        "id": "i232jvzelIIP",
        "colab_type": "code",
        "colab": {
          "base_uri": "https://localhost:8080/",
          "height": 173
        },
        "outputId": "9f16b088-d644-49e0-89b9-3772defccdf6"
      },
      "source": [
        "REPO_NAME= 'random-forest-timeseries'\n",
        "from google.colab import drive\n",
        "drive.mount('/content/drive')\n",
        "%run /content/drive/My\\ Drive/lib/InitLib.ipynb"
      ],
      "execution_count": 6,
      "outputs": [
        {
          "output_type": "stream",
          "text": [
            "Drive already mounted at /content/drive; to attempt to forcibly remount, call drive.mount(\"/content/drive\", force_remount=True).\n",
            "Mounted at /content/gdrive\n",
            "Vesion:1.2\n",
            "mkdir: cannot create directory ‘/content/gdrive/My Drive/src/’: File exists\n",
            "Cloning into 'random-forest-timeseries'...\n",
            "remote: Enumerating objects: 11, done.\u001b[K\n",
            "remote: Total 11 (delta 0), reused 0 (delta 0), pack-reused 11\u001b[K\n",
            "Unpacking objects: 100% (11/11), done.\n"
          ],
          "name": "stdout"
        }
      ]
    },
    {
      "cell_type": "code",
      "metadata": {
        "id": "6NCxZJbPksXg",
        "colab_type": "code",
        "outputId": "0e2326de-a9e4-4814-d62b-1c6c8a8f0fa9",
        "colab": {
          "base_uri": "https://localhost:8080/",
          "height": 34
        }
      },
      "source": [
        "import pandas as pd\n",
        "pd.set_option('display.max_columns', None)\n",
        "%pylab inline\n",
        "import numpy as np\n",
        "%matplotlib inline\n",
        "import matplotlib.pyplot as plt\n",
        "from sklearn.svm import SVR\n"
      ],
      "execution_count": 7,
      "outputs": [
        {
          "output_type": "stream",
          "text": [
            "Populating the interactive namespace from numpy and matplotlib\n"
          ],
          "name": "stdout"
        }
      ]
    },
    {
      "cell_type": "code",
      "metadata": {
        "id": "xwzPDxrYksYL",
        "colab_type": "code",
        "outputId": "1bfb8462-3cb3-4541-b105-579bd82ad9d4",
        "colab": {
          "base_uri": "https://localhost:8080/",
          "height": 34
        }
      },
      "source": [
        "#rawdata = pd.read_table('kepler17_whole.dat', delim_whitespace=True, \n",
        "#                        header=0, names=('time','flux','error'))\n",
        "#rawdata.tail(5)\n",
        "\n",
        "\n",
        "#time_raw,flux_raw,err_raw = np.loadtxt('kepler17_whole.dat',unpack=True)\n",
        "#time_raw\n",
        "\n",
        "time0,flux,err = np.loadtxt(REPO_DIR + '/kepler17_downsample2.dat',unpack=True)\n",
        "\n",
        "# Let's just use time before day=600 to avoid big data gap\n",
        "flux = flux[(time0 < 600)]\n",
        "time = time0[(time0 < 600)]\n",
        "\n",
        "print(np.shape(time), np.shape(flux))"
      ],
      "execution_count": 10,
      "outputs": [
        {
          "output_type": "stream",
          "text": [
            "(2343,) (2343,)\n"
          ],
          "name": "stdout"
        }
      ]
    },
    {
      "cell_type": "code",
      "metadata": {
        "id": "T7Qg25hmksYs",
        "colab_type": "code",
        "outputId": "ab699e1d-648b-4140-e6fa-46711aacaf6b",
        "colab": {
          "base_uri": "https://localhost:8080/",
          "height": 286
        }
      },
      "source": [
        "\n",
        "plt.plot(time,flux,'r-')\n",
        "plt.ylim((2.65e4,2.8e4))\n",
        "plt.xlim((200,290))"
      ],
      "execution_count": 11,
      "outputs": [
        {
          "output_type": "execute_result",
          "data": {
            "text/plain": [
              "(200, 290)"
            ]
          },
          "metadata": {
            "tags": []
          },
          "execution_count": 11
        },
        {
          "output_type": "display_data",
          "data": {
            "image/png": "[encoded data removed]",
            "text/plain": [
              "<Figure size 432x288 with 1 Axes>"
            ]
          },
          "metadata": {
            "tags": []
          }
        }
      ]
    },
    {
      "cell_type": "markdown",
      "metadata": {
        "id": "OxMwERgNksZM",
        "colab_type": "text"
      },
      "source": [
        "---\n",
        "## Do a loop over dataframe to make instances\n",
        "\n",
        "create 20-day bins, separated by 1-day, compute features (delta time, delta flux)"
      ]
    },
    {
      "cell_type": "code",
      "metadata": {
        "id": "YdSK25mTksZR",
        "colab_type": "code",
        "outputId": "f1a326f9-a306-4ec5-968d-544e1c5bdc1b",
        "colab": {
          "base_uri": "https://localhost:8080/",
          "height": 51
        }
      },
      "source": [
        "# FEATURES dimensions: 2(time,flux) x N(pts in window) x N_windows\n",
        "# LABELS dimensions: N_windows\n",
        "\n",
        "Npts = 100 # data points within each window\n",
        "Nwnd = len(time)-2*Npts-1 # move each window by 1 data point, keep last chunk for prediction\n",
        "\n",
        "# Features should have dimensions (N_instances x N_features)\n",
        "# Labels should have dimensions (N_instances)\n",
        "feat = np.zeros( [Nwnd, Npts] ) - 9999999. # blank array to fill\n",
        "labl = np.zeros( [Nwnd] ) - 99999.\n",
        "sh = np.shape(feat)\n",
        "\n",
        "print('shape of feature array:',sh)\n",
        "print(Nwnd)\n",
        "\n",
        "\n",
        "# Now fill the feature and label arrays\n",
        "for i in range(int(Nwnd)):\n",
        "    #feat[i,:] = np.concatenate((time[i:i+Npts] - time[i+Npts], \n",
        "    #                            flux[i:i+Npts] - flux[i+Npts]))\n",
        "    feat[i,:] = flux[i:i+Npts] - flux[i+Npts]\n",
        "    labl[i] = flux[i+Npts+1] - flux[i+Npts]\n"
      ],
      "execution_count": 12,
      "outputs": [
        {
          "output_type": "stream",
          "text": [
            "shape of feature array: (2142, 100)\n",
            "2142\n"
          ],
          "name": "stdout"
        }
      ]
    },
    {
      "cell_type": "code",
      "metadata": {
        "id": "R82l2Tr_ksZw",
        "colab_type": "code",
        "outputId": "957b2c0c-5b4a-4238-c126-ab43a6517d48",
        "colab": {
          "base_uri": "https://localhost:8080/",
          "height": 34
        }
      },
      "source": [
        "\n",
        "# Now make test features and test labels to compare with\n",
        "test_feat = np.zeros( [Npts, Npts] )\n",
        "test_labl = np.zeros( [Npts] )\n",
        "\n",
        "print(np.size(test_feat),np.size(test_labl))\n",
        "\n",
        "for i in range(Npts):\n",
        "    #test_feat[i,:] = np.concatenate((time[i+Nwnd:i+Nwnd+Npts] - time[i+Nwnd+Npts],\n",
        "    #                                 flux[i+Nwnd:i+Nwnd+Npts] - flux[i+Nwnd+Npts]))\n",
        "    test_feat[i,:] = flux[i+Nwnd:i+Nwnd+Npts] - flux[i+Nwnd+Npts]\n",
        "    test_labl[i] = flux[i+Nwnd+Npts+1] - flux[i+Nwnd+Npts]\n",
        "    "
      ],
      "execution_count": 13,
      "outputs": [
        {
          "output_type": "stream",
          "text": [
            "10000 100\n"
          ],
          "name": "stdout"
        }
      ]
    },
    {
      "cell_type": "code",
      "metadata": {
        "id": "Xz-wwkB9ksaL",
        "colab_type": "code",
        "outputId": "7891245a-68b4-4371-f26b-7154681455f9",
        "colab": {
          "base_uri": "https://localhost:8080/",
          "height": 139
        }
      },
      "source": [
        "# Code taken from Josh Bloom's lecture\n",
        "\n",
        "from sklearn.ensemble import RandomForestRegressor\n",
        "clf2 = RandomForestRegressor(n_estimators=1000, \n",
        "                            criterion='mse')\n",
        "clf2.fit(feat, labl)\n"
      ],
      "execution_count": 15,
      "outputs": [
        {
          "output_type": "execute_result",
          "data": {
            "text/plain": [
              "RandomForestRegressor(bootstrap=True, criterion='mse', max_depth=None,\n",
              "           max_features='auto', max_leaf_nodes=None,\n",
              "           min_impurity_decrease=0.0, min_impurity_split=None,\n",
              "           min_samples_leaf=1, min_samples_split=2,\n",
              "           min_weight_fraction_leaf=0.0, n_estimators=1000, n_jobs=None,\n",
              "           oob_score=False, random_state=None, verbose=0, warm_start=False)"
            ]
          },
          "metadata": {
            "tags": []
          },
          "execution_count": 15
        }
      ]
    },
    {
      "cell_type": "code",
      "metadata": {
        "id": "BMVEMbNNksar",
        "colab_type": "code",
        "outputId": "0d5fcf39-bf72-4fb6-dff8-dbe1335f8d8d",
        "colab": {
          "base_uri": "https://localhost:8080/",
          "height": 303
        }
      },
      "source": [
        "pred = clf2.predict(test_feat)\n",
        "print(len(pred))\n",
        "\n",
        "# try plotting the actual delta fluxes vs the predicted\n",
        "plt.plot(test_labl)\n",
        "plt.plot(pred,'ro')"
      ],
      "execution_count": 17,
      "outputs": [
        {
          "output_type": "stream",
          "text": [
            "100\n"
          ],
          "name": "stdout"
        },
        {
          "output_type": "execute_result",
          "data": {
            "text/plain": [
              "[<matplotlib.lines.Line2D at 0x7fbe4655bf28>]"
            ]
          },
          "metadata": {
            "tags": []
          },
          "execution_count": 17
        },
        {
          "output_type": "display_data",
          "data": {
            "image/png": "[encoded data removed]",
            "text/plain": [
              "<Figure size 432x288 with 1 Axes>"
            ]
          },
          "metadata": {
            "tags": []
          }
        }
      ]
    },
    {
      "cell_type": "markdown",
      "metadata": {
        "id": "rUBQ2MK82MFU",
        "colab_type": "text"
      },
      "source": [
        "# New SectionTrting to measure the error (AUC or SME)"
      ]
    },
    {
      "cell_type": "code",
      "metadata": {
        "id": "fltCzkYQvaoq",
        "colab_type": "code",
        "colab": {
          "base_uri": "https://localhost:8080/",
          "height": 34
        },
        "outputId": "36ec5d73-6962-4f7d-bb15-d90bf39a9c47"
      },
      "source": [
        "%run gdrive/My\\ Drive/lib/graphlib.ipynb"
      ],
      "execution_count": 51,
      "outputs": [
        {
          "output_type": "stream",
          "text": [
            "Version 1.9\n"
          ],
          "name": "stdout"
        }
      ]
    },
    {
      "cell_type": "code",
      "metadata": {
        "id": "FA-2SWvBvo3R",
        "colab_type": "code",
        "colab": {
          "base_uri": "https://localhost:8080/",
          "height": 139
        },
        "outputId": "5fcf276f-56d2-44c4-e384-30e6c844672c"
      },
      "source": [
        "calculate_errors(test_labl, pred)"
      ],
      "execution_count": 52,
      "outputs": [
        {
          "output_type": "stream",
          "text": [
            "explained_variance_score 0.7541311184944863\n",
            "mean_absolute_error 41.539658149219946\n",
            "mean_squared_error 12357.834670048936\n",
            "median_absolute_error 6.915623045799991\n"
          ],
          "name": "stdout"
        },
        {
          "output_type": "stream",
          "text": [
            "/usr/local/lib/python3.6/dist-packages/ipykernel_launcher.py:12: DeprecationWarning: Calling np.sum(generator) is deprecated, and in the future will give a different result. Use np.sum(np.fromiter(generator)) or the python sum builtin instead.\n",
            "  if sys.path[0] == '':\n"
          ],
          "name": "stderr"
        }
      ]
    },
    {
      "cell_type": "code",
      "metadata": {
        "id": "KHYcXzmrksbE",
        "colab_type": "code",
        "outputId": "0cebb720-bffd-49ac-cdc8-8625c330c7cb",
        "colab": {
          "base_uri": "https://localhost:8080/",
          "height": 286
        }
      },
      "source": [
        "# now let's draw the predictions for the entire training dataset... stupid to do?\n",
        "\n",
        "pred_big = clf2.predict(feat)\n",
        "plt.plot(labl)\n",
        "plt.plot(pred_big, 'r+')\n",
        "plt.xlim((50,70))"
      ],
      "execution_count": 18,
      "outputs": [
        {
          "output_type": "execute_result",
          "data": {
            "text/plain": [
              "(50, 70)"
            ]
          },
          "metadata": {
            "tags": []
          },
          "execution_count": 18
        },
        {
          "output_type": "display_data",
          "data": {
            "image/png": "[encoded data removed]",
            "text/plain": [
              "<Figure size 432x288 with 1 Axes>"
            ]
          },
          "metadata": {
            "tags": []
          }
        }
      ]
    },
    {
      "cell_type": "code",
      "metadata": {
        "id": "yvcKRzHiksbb",
        "colab_type": "code",
        "colab": {
          "base_uri": "https://localhost:8080/",
          "height": 34
        },
        "outputId": "e3dbec8b-97d8-451e-c1f7-cf15d97c6340"
      },
      "source": [
        "zip(clf2.feature_importances_)"
      ],
      "execution_count": 19,
      "outputs": [
        {
          "output_type": "execute_result",
          "data": {
            "text/plain": [
              "<zip at 0x7fbe464840c8>"
            ]
          },
          "metadata": {
            "tags": []
          },
          "execution_count": 19
        }
      ]
    },
    {
      "cell_type": "code",
      "metadata": {
        "id": "3PKQX0rQksby",
        "colab_type": "code",
        "outputId": "fdbd18c1-75ee-458b-a3c2-5813aaa92fa1",
        "colab": {
          "base_uri": "https://localhost:8080/",
          "height": 300
        }
      },
      "source": [
        "plt.semilogy(time[Npts]-time[0:Npts], clf2.feature_importances_,'bo-')\n",
        "plt.xlabel('Time (days)');  plt.ylabel('Importance')"
      ],
      "execution_count": 53,
      "outputs": [
        {
          "output_type": "execute_result",
          "data": {
            "text/plain": [
              "Text(0, 0.5, 'Importance')"
            ]
          },
          "metadata": {
            "tags": []
          },
          "execution_count": 53
        },
        {
          "output_type": "display_data",
          "data": {
            "image/png": "[encoded data removed]",
            "text/plain": [
              "<Figure size 432x288 with 1 Axes>"
            ]
          },
          "metadata": {
            "tags": []
          }
        }
      ]
    },
    {
      "cell_type": "markdown",
      "metadata": {
        "id": "GLZ6l3iYkscs",
        "colab_type": "text"
      },
      "source": [
        "## Test Support Vector Regression"
      ]
    },
    {
      "cell_type": "code",
      "metadata": {
        "id": "xdgcSS-Rkscz",
        "colab_type": "code",
        "colab": {
          "base_uri": "https://localhost:8080/",
          "height": 34
        },
        "outputId": "53915206-7694-4716-c1e2-8f5a309acac5"
      },
      "source": [
        "XX = np.transpose(np.array([time]))\n",
        "YY = flux\n",
        "print(np.shape(XX))"
      ],
      "execution_count": 54,
      "outputs": [
        {
          "output_type": "stream",
          "text": [
            "(2343, 1)\n"
          ],
          "name": "stdout"
        }
      ]
    },
    {
      "cell_type": "code",
      "metadata": {
        "id": "4ZiNtqoRksdK",
        "colab_type": "code",
        "colab": {}
      },
      "source": [
        "svr_rbf = SVR(kernel='rbf', C=1e3, gamma=0.1)\n",
        "y_rbf = svr_rbf.fit(XX, YY).predict(XX)"
      ],
      "execution_count": 0,
      "outputs": []
    },
    {
      "cell_type": "markdown",
      "metadata": {
        "id": "xrh0cTJMATJ-",
        "colab_type": "text"
      },
      "source": [
        ""
      ]
    },
    {
      "cell_type": "code",
      "metadata": {
        "id": "6pfK06KXksdh",
        "colab_type": "code",
        "colab": {
          "base_uri": "https://localhost:8080/",
          "height": 286
        },
        "outputId": "6844fbaf-6340-4ba1-9cc7-4205a28363b8"
      },
      "source": [
        "plt.plot(XX, y_rbf, 'g+')\n",
        "plt.xlim((200,300))\n",
        "#plt.ylim((-500,500))"
      ],
      "execution_count": 22,
      "outputs": [
        {
          "output_type": "execute_result",
          "data": {
            "text/plain": [
              "(200, 300)"
            ]
          },
          "metadata": {
            "tags": []
          },
          "execution_count": 22
        },
        {
          "output_type": "display_data",
          "data": {
            "image/png": "[encoded data removed]",
            "text/plain": [
              "<Figure size 432x288 with 1 Axes>"
            ]
          },
          "metadata": {
            "tags": []
          }
        }
      ]
    },
    {
      "cell_type": "code",
      "metadata": {
        "id": "JqKmU9hRksd3",
        "colab_type": "code",
        "colab": {}
      },
      "source": [
        ""
      ],
      "execution_count": 0,
      "outputs": []
    }
  ]
}